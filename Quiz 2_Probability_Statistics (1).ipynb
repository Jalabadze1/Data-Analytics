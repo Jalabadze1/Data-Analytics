{
 "cells": [
  {
   "cell_type": "markdown",
   "id": "edf1aed4",
   "metadata": {},
   "source": [
    "## Quiz 2 - Probability, Statistics (ლექცია 4, ლექცია 5) - 7 ქულა\n",
    "\n",
    "იხილეთ LoanStatus.csv მონაცემთა ფაილი, რომელშიც მოცემულია კლიენტთა ინფორმაცია შემდეგი სვეტებით:\n",
    "\n",
    "Loan ID - კლიენტის ID\n",
    "\n",
    "Gender - სქესი\n",
    "\n",
    "Married - დაქორზინებული არის თუ არა\n",
    "\n",
    "Dependents - ოჯახის წევრების რაოდენობა, რომლის ფინანსურ მხარდაჭერასაც უზრუნველყოფს კლიენტი\n",
    "\n",
    "Education - არის თუ არა უმაღლესი განათლების მქონე\n",
    "\n",
    "Self_Employed - არის თუ არა თვითდასაქმებული\n",
    "\n",
    "ApplicantIncome - კლიენტის შემოსავალი (per month)\n",
    "\n",
    "LoanAmount  - სესხის რაოდენობა (ათასებში)\n",
    "\n",
    "Loan_Amount_Term - სესხის ვადა\n",
    "\n",
    "Credit_History - როგორი საკრედიტო ისტორია აქვს კლიენტს (1-კარგი, 0-ცუდი)\n",
    "\n",
    "Property_Area - საცხოვრებელი და სამუშაო ადგილი\n",
    "\n",
    "Loan_Status - სესხის გაცემის სტატუსი\n"
   ]
  },
  {
   "cell_type": "markdown",
   "id": "3b4fc6c6",
   "metadata": {},
   "source": [
    "## დავალება 1: აღწერილობითი სტატისტიკა  (1 ქულა)\n",
    "ა) გახსენით ფაილი და დაბეჭდეთ აღწერილობითი სტატისტიკის მონაცემები თქვენთვის საინტერესო ველებისთვის, როგორიცაა საშუალო, მედიანა, მოდა, სტდ. გადახრა, ა.შ. (მოახდინეთ სიტყვიერი ინტერპრეტაცია);\n",
    "\n",
    "ბ) დაითვალეთ თითოეულ სვეტში ცარიელი მნიშვნელობების რაოდენობა შესაბამისი ფუნქციით"
   ]
  },
  {
   "cell_type": "code",
   "execution_count": 2,
   "id": "b786db79",
   "metadata": {},
   "outputs": [],
   "source": [
    "import pandas as pd\n",
    "import warnings\n",
    "\n",
    "from scipy.stats import norm\n",
    "warnings.filterwarnings(\"ignore\")"
   ]
  },
  {
   "cell_type": "code",
   "execution_count": 3,
   "id": "1abee773",
   "metadata": {},
   "outputs": [],
   "source": [
    "df = pd.read_csv(\"LoanStatus.csv\")"
   ]
  },
  {
   "cell_type": "code",
   "execution_count": 4,
   "id": "eacde097",
   "metadata": {},
   "outputs": [
    {
     "name": "stdout",
     "output_type": "stream",
     "text": [
      "Column: ApplicantIncome\n",
      "Minimum: 150\n",
      "Maximum: 81000\n",
      "Mean: 5403.459283387622\n",
      "Median: 3812.5\n",
      "\n",
      "\n",
      "Column: LoanAmount\n",
      "Minimum: 9.0\n",
      "Maximum: 700.0\n",
      "Mean: 146.41216216216216\n",
      "Median: 128.0\n",
      "\n",
      "\n"
     ]
    }
   ],
   "source": [
    "columns_to_analyze = [\"ApplicantIncome\", \"LoanAmount\"]\n",
    "\n",
    "for column in columns_to_analyze:\n",
    "    column_min = df[column].min()\n",
    "    column_max = df[column].max()\n",
    "    column_mean = df[column].mean()\n",
    "    column_median = df[column].median()\n",
    "\n",
    "    print(f\"Column: {column}\")\n",
    "    print(f\"Minimum: {column_min}\")\n",
    "    print(f\"Maximum: {column_max}\")\n",
    "    print(f\"Mean: {column_mean}\")\n",
    "    print(f\"Median: {column_median}\")\n",
    "    print(\"\\n\")\n"
   ]
  },
  {
   "cell_type": "code",
   "execution_count": 5,
   "id": "8c88c06e",
   "metadata": {},
   "outputs": [
    {
     "name": "stdout",
     "output_type": "stream",
     "text": [
      "Loan_ID              0\n",
      "Gender              13\n",
      "Married              3\n",
      "Dependents          15\n",
      "Education            0\n",
      "Self_Employed       32\n",
      "ApplicantIncome      0\n",
      "LoanAmount          22\n",
      "Loan_Amount_Term    14\n",
      "Credit_History      50\n",
      "Property_Area        0\n",
      "Loan_Status          0\n",
      "dtype: int64\n"
     ]
    }
   ],
   "source": [
    "blank_count = df.isnull().sum()\n",
    "print(blank_count)"
   ]
  },
  {
   "cell_type": "markdown",
   "id": "765decd7",
   "metadata": {},
   "source": [
    "## დავალება 2:  ალბათობა (1 ქულა)\n",
    "ა) დაითვალეთ, რა არის სესხის აღების ალბათობა Loan_Status-ის მიხედვით.\n",
    "\n",
    "ბ) რა არის სესხის აღების ალბათობა, მაშინ როცა კლიენტს კარგი საკრედიტო ისტორია აქვს.\n",
    "\n",
    "კოდს დაურთეთ თქვენი კომენტარები მოკლედ"
   ]
  },
  {
   "cell_type": "code",
   "execution_count": 6,
   "id": "98aafed8",
   "metadata": {},
   "outputs": [
    {
     "name": "stdout",
     "output_type": "stream",
     "text": [
      "Y    0.687296\n",
      "N    0.312704\n",
      "Name: Loan_Status, dtype: float64\n"
     ]
    }
   ],
   "source": [
    "loan_approval_probability = df['Loan_Status'].value_counts(normalize=True)\n",
    "print(loan_approval_probability)"
   ]
  },
  {
   "cell_type": "code",
   "execution_count": 7,
   "id": "b2a3f23c",
   "metadata": {},
   "outputs": [
    {
     "name": "stdout",
     "output_type": "stream",
     "text": [
      "Y    0.795789\n",
      "N    0.204211\n",
      "Name: Loan_Status, dtype: float64\n"
     ]
    }
   ],
   "source": [
    "good_credit_history_approval = df[df['Credit_History'] == 1]['Loan_Status'].value_counts(normalize=True)\n",
    "print(good_credit_history_approval)"
   ]
  },
  {
   "cell_type": "markdown",
   "id": "80eb6167",
   "metadata": {},
   "source": [
    "## დავალება 3: გრაფიკული წარმოდგენა (1 ქულა)\n",
    "ა) seaborn.distplot ან seaborn.histplot() ფუნქციის გამოყენებით, ააგეთ რომელიმე სვეტისთვის შესაბამისი გრაფიკი. ლინკი: https://seaborn.pydata.org/generated/seaborn.distplot.html\n",
    "\n",
    "ბ) matplotlib.pyplot.hist ფუნქციის გამოყენებით, ააგეთ რომელიმე სვეტისთვის შესაბამისი ჰისტოგრამი, რომელშიც bin-ების (ჰოსტოგრამაში ბლოკების) რაოდენობას თქვენ განსაზღვრავთ (მაგ. ჰისტოგრამაში 10 სვეტად წარმოადგინოთ მონაცემები.) იხ. დოკუმენტაცია შემდეგ ლინკზე: https://matplotlib.org/stable/api/_as_gen/matplotlib.pyplot.hist.html \n",
    "\n",
    "Future warnings-ების გამოსართავად ჩაწერეთ შემდეგი ბრძანებები:\n",
    "import warnings\n",
    "warnings.filterwarnings(\"ignore\")\n",
    "\n",
    "კოდს დაურთეთ თქვენი კომენტარები მოკლედ"
   ]
  },
  {
   "cell_type": "code",
   "execution_count": 8,
   "id": "4acb2e7f",
   "metadata": {},
   "outputs": [],
   "source": [
    "import numpy as np\n",
    "import matplotlib.pyplot as plt\n",
    "import seaborn as sns"
   ]
  },
  {
   "cell_type": "code",
   "execution_count": 9,
   "id": "8307cf58",
   "metadata": {},
   "outputs": [
    {
     "data": {
      "image/png": "[encoded data removed]",
      "text/plain": [
       "<Figure size 640x480 with 1 Axes>"
      ]
     },
     "metadata": {},
     "output_type": "display_data"
    }
   ],
   "source": [
    "sns.histplot(data=df, x=\"ApplicantIncome\", kde=True)\n",
    "\n",
    "plt.xlabel(\"Income\")\n",
    "plt.ylabel(\"Frequency\")\n",
    "plt.title(\"Applicant Income\")\n",
    "\n",
    "plt.show()"
   ]
  },
  {
   "cell_type": "code",
   "execution_count": 10,
   "id": "6e98aca4",
   "metadata": {},
   "outputs": [
    {
     "data": {
      "image/png": "[encoded data removed]",
      "text/plain": [
       "<Figure size 640x480 with 1 Axes>"
      ]
     },
     "metadata": {},
     "output_type": "display_data"
    }
   ],
   "source": [
    "plt.hist(df[\"ApplicantIncome\"], bins=10, edgecolor='k', alpha=0.7)\n",
    "\n",
    "plt.xlabel(\"Applicant Income\")\n",
    "plt.ylabel(\"Frequency\")\n",
    "plt.title(\"Histogram of Applicant Income (10 Bins)\")\n",
    "plt.show()"
   ]
  },
  {
   "cell_type": "markdown",
   "id": "7331343b",
   "metadata": {},
   "source": [
    "## დავალება 4:  კუმულაციური ალბათობა (Cumulative distribution function) - (1 ქულა)\n",
    "დაითვალეთ შემდეგი კუმულაციური ალბათობა scipy.stats.norm.cdf() ფუნქციის გამოყენებით.\n",
    "დაითვალეთ კლიენტების რამდენ პროცენტს აქვს შემოსავალი 2000 ევროზე ნაკლები ყოველთვიურად.\n",
    "norm.cdf(x, mean_val, std_dev_val) ფუნქციის პირველი პარამეტრია სასაზღვრო მნიშვნელობა, მეორე- საშუალო, მესამე -სტდ. გადახრა.\n",
    "\n",
    "#### მოახდინეთ შედეგების სიტყვიერი ინტერპრეტაცია"
   ]
  },
  {
   "cell_type": "code",
   "execution_count": 15,
   "id": "be4adcf9",
   "metadata": {},
   "outputs": [],
   "source": [
    "from scipy.stats import norm"
   ]
  },
  {
   "cell_type": "code",
   "execution_count": 11,
   "id": "47399106",
   "metadata": {},
   "outputs": [
    {
     "name": "stdout",
     "output_type": "stream",
     "text": [
      "clients earning less than 2000  2.28%.\n"
     ]
    }
   ],
   "source": [
    "mean_val = 6000\n",
    "std_dev_val = 2000\n",
    "\n",
    "x = 2000\n",
    "cumulative_probability = norm.cdf(x, loc=mean_val, scale=std_dev_val)\n",
    "\n",
    "percentage = cumulative_probability * 100\n",
    "\n",
    "print(f\"clients earning less than 2000  {percentage:.2f}%.\")"
   ]
  },
  {
   "cell_type": "code",
   "execution_count": null,
   "id": "ea939c97",
   "metadata": {},
   "outputs": [],
   "source": []
  },
  {
   "cell_type": "code",
   "execution_count": null,
   "id": "ac6083ba",
   "metadata": {},
   "outputs": [],
   "source": []
  },
  {
   "cell_type": "markdown",
   "id": "ab5b9a5b",
   "metadata": {},
   "source": [
    "## დავალება 5: სტატისტიკა (1 ქულა)\n",
    "\n",
    "ააგეთ 2 boxplot დიაგრამა seaborn.boxplot() ფუნქციის გამოყენებით რომელიმე ველის მიმართ. "
   ]
  },
  {
   "cell_type": "code",
   "execution_count": 17,
   "id": "60901cb8",
   "metadata": {},
   "outputs": [
    {
     "data": {
      "image/png": "[encoded data removed]",
      "text/plain": [
       "<Figure size 640x480 with 1 Axes>"
      ]
     },
     "metadata": {},
     "output_type": "display_data"
    }
   ],
   "source": [
    "sns.boxplot(x=\"ApplicantIncome\", data=df)\n",
    "\n",
    "# Set labels and title\n",
    "plt.xlabel(\"Applicant Income\")\n",
    "plt.title(\"Box Plot of Applicant Income\")\n",
    "\n",
    "# Show the plot\n",
    "plt.show()"
   ]
  },
  {
   "cell_type": "code",
   "execution_count": 12,
   "id": "d0d8a3bc",
   "metadata": {},
   "outputs": [
    {
     "data": {
      "image/png": "[encoded data removed]",
      "text/plain": [
       "<Figure size 640x480 with 1 Axes>"
      ]
     },
     "metadata": {},
     "output_type": "display_data"
    }
   ],
   "source": [
    "sns.boxplot(x=\"LoanAmount\", data=df)\n",
    "\n",
    "plt.xlabel(\"Loan Amount\")\n",
    "plt.title(\"Box Plot of Loan Amount\")\n",
    "\n",
    "plt.show()"
   ]
  },
  {
   "cell_type": "markdown",
   "id": "4ae13cb5",
   "metadata": {},
   "source": [
    "## დავალება 6: t-test (2 ქულა)\n",
    "ა) გააკეთეთ t-test ანალიზი (One sample t-test)  რომელიმე სვეტის მიმართ და გამოიყენეთ  ttest_1samp ფუნქცია. \n",
    "\n",
    "ბ) გააკეთეთ t-test ანალიზი (Two sample t-test) რომელიმე სვეტის მიმართ და გამოიყენეთ  ttest_ind ფუნქცია. \n",
    "\n",
    "განსაზღვრეთ ნულოვანი და ალტერნატიული ჰიპოთეზა, გამოიყენეთ აღნიშნული ფუნქციები და მოახდინეთ შედეგების სიტყვიერი ინტერპრეტაცია."
   ]
  },
  {
   "cell_type": "code",
   "execution_count": 14,
   "id": "f05f6747",
   "metadata": {},
   "outputs": [],
   "source": [
    "from scipy.stats import ttest_1samp,ttest_ind"
   ]
  },
  {
   "cell_type": "code",
   "execution_count": 15,
   "id": "116b95c4",
   "metadata": {},
   "outputs": [
    {
     "name": "stdout",
     "output_type": "stream",
     "text": [
      "Reject the null hypothesis. The average applicant income is different from 6000 euros.\n"
     ]
    }
   ],
   "source": [
    "null_hypothesis_mean = 6000\n",
    "\n",
    "t_statistic, p_value = ttest_1samp(df['ApplicantIncome'], null_hypothesis_mean)\n",
    "\n",
    "alpha = 0.05\n",
    "\n",
    "if p_value < alpha:\n",
    "    print(\"Reject the null. income is different from 6000\")\n",
    "else:\n",
    "    print(\"Fail to reject the null. income is not significantly different from 6000 euros.\")\n"
   ]
  },
  {
   "cell_type": "code",
   "execution_count": 17,
   "id": "c0954508",
   "metadata": {},
   "outputs": [
    {
     "name": "stdout",
     "output_type": "stream",
     "text": [
      "There is no significant difference in income between the two groups.\n"
     ]
    }
   ],
   "source": [
    "approved = df[df['Loan_Status'] == \"Y\"]['ApplicantIncome']\n",
    "not_approved = df[df['Loan_Status'] == \"N\"]['ApplicantIncome']\n",
    "\n",
    "t_statistic, p_value = ttest_ind(approved, not_approved, equal_var=False)\n",
    "\n",
    "alpha = 0.05\n",
    "\n",
    "if p_value < alpha:\n",
    "    print(\"Reject the null hypothesis. The mean income of received loans is different from;\")\n",
    "else:\n",
    "    print(\"There is no significant difference in income between the two groups.\")\n"
   ]
  },
  {
   "cell_type": "code",
   "execution_count": null,
   "id": "4e3e52ed",
   "metadata": {},
   "outputs": [],
   "source": []
  }
 ],
 "metadata": {
  "kernelspec": {
   "display_name": "Python 3 (ipykernel)",
   "language": "python",
   "name": "python3"
  },
  "language_info": {
   "codemirror_mode": {
    "name": "ipython",
    "version": 3
   },
   "file_extension": ".py",
   "mimetype": "text/x-python",
   "name": "python",
   "nbconvert_exporter": "python",
   "pygments_lexer": "ipython3",
   "version": "3.11.4"
  }
 },
 "nbformat": 4,
 "nbformat_minor": 5
}
